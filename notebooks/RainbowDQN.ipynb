{
  "nbformat": 4,
  "nbformat_minor": 0,
  "metadata": {
    "colab": {
      "name": "RainbowDQN",
      "version": "0.3.2",
      "provenance": [],
      "collapsed_sections": []
    },
    "kernelspec": {
      "name": "python3",
      "display_name": "Python 3"
    },
    "accelerator": "GPU"
  },
  "cells": [
    {
      "metadata": {
        "id": "ej96bWutkWX1",
        "colab_type": "text"
      },
      "cell_type": "markdown",
      "source": [
        "# Rainbow DQN\n",
        "## Introduction\n",
        "We use the environment that we have written and can be found here: https://github.com/derdav3/Drop7Gym.git  \n",
        "  \n",
        "We used for training the code found on https://github.com/google/dopamine/blob/master/dopamine/agents/rainbow/rainbow_agent.py and we adapted the parts we had to.  \n",
        "  \n",
        "This notebook was run on Google Colab.  \n",
        "\n",
        "This notebook should be run in the order it is built, as we changed some methods between the different trainings. Some methods are duplicated as we wanted to try new things and didn't want to risk to loose the results of the already ran models."
      ]
    },
    {
      "metadata": {
        "id": "8SfHbOc_eKFA",
        "colab_type": "code",
        "outputId": "7ef68cee-3491-4c70-a4ff-5ae3707cce81",
        "colab": {
          "base_uri": "https://localhost:8080/",
          "height": 146
        }
      },
      "cell_type": "code",
      "source": [
        "!git clone https://github.com/derdav3/Drop7Gym.git"
      ],
      "execution_count": 1,
      "outputs": [
        {
          "output_type": "stream",
          "text": [
            "Cloning into 'Drop7Gym'...\n",
            "remote: Enumerating objects: 129, done.\u001b[K\n",
            "remote: Counting objects:   0% (1/129)   \u001b[K\rremote: Counting objects:   1% (2/129)   \u001b[K\rremote: Counting objects:   2% (3/129)   \u001b[K\rremote: Counting objects:   3% (4/129)   \u001b[K\rremote: Counting objects:   4% (6/129)   \u001b[K\rremote: Counting objects:   5% (7/129)   \u001b[K\rremote: Counting objects:   6% (8/129)   \u001b[K\rremote: Counting objects:   7% (10/129)   \u001b[K\rremote: Counting objects:   8% (11/129)   \u001b[K\rremote: Counting objects:   9% (12/129)   \u001b[K\rremote: Counting objects:  10% (13/129)   \u001b[K\rremote: Counting objects:  11% (15/129)   \u001b[K\rremote: Counting objects:  12% (16/129)   \u001b[K\rremote: Counting objects:  13% (17/129)   \u001b[K\rremote: Counting objects:  14% (19/129)   \u001b[K\rremote: Counting objects:  15% (20/129)   \u001b[K\rremote: Counting objects:  16% (21/129)   \u001b[K\rremote: Counting objects:  17% (22/129)   \u001b[K\rremote: Counting objects:  18% (24/129)   \u001b[K\rremote: Counting objects:  19% (25/129)   \u001b[K\rremote: Counting objects:  20% (26/129)   \u001b[K\rremote: Counting objects:  21% (28/129)   \u001b[K\rremote: Counting objects:  22% (29/129)   \u001b[K\rremote: Counting objects:  23% (30/129)   \u001b[K\rremote: Counting objects:  24% (31/129)   \u001b[K\rremote: Counting objects:  25% (33/129)   \u001b[K\rremote: Counting objects:  26% (34/129)   \u001b[K\rremote: Counting objects:  27% (35/129)   \u001b[K\rremote: Counting objects:  28% (37/129)   \u001b[K\rremote: Counting objects:  29% (38/129)   \u001b[K\rremote: Counting objects:  30% (39/129)   \u001b[K\rremote: Counting objects:  31% (40/129)   \u001b[K\rremote: Counting objects:  32% (42/129)   \u001b[K\rremote: Counting objects:  33% (43/129)   \u001b[K\rremote: Counting objects:  34% (44/129)   \u001b[K\rremote: Counting objects:  35% (46/129)   \u001b[K\rremote: Counting objects:  36% (47/129)   \u001b[K\rremote: Counting objects:  37% (48/129)   \u001b[K\rremote: Counting objects:  38% (50/129)   \u001b[K\rremote: Counting objects:  39% (51/129)   \u001b[K\rremote: Counting objects:  40% (52/129)   \u001b[K\rremote: Counting objects:  41% (53/129)   \u001b[K\rremote: Counting objects:  42% (55/129)   \u001b[K\rremote: Counting objects:  43% (56/129)   \u001b[K\rremote: Counting objects:  44% (57/129)   \u001b[K\rremote: Counting objects:  45% (59/129)   \u001b[K\rremote: Counting objects:  46% (60/129)   \u001b[K\rremote: Counting objects:  47% (61/129)   \u001b[K\rremote: Counting objects:  48% (62/129)   \u001b[K\rremote: Counting objects:  49% (64/129)   \u001b[K\rremote: Counting objects:  50% (65/129)   \u001b[K\rremote: Counting objects:  51% (66/129)   \u001b[K\rremote: Counting objects:  52% (68/129)   \u001b[K\rremote: Counting objects:  53% (69/129)   \rremote: Counting objects:  54% (70/129)   \u001b[K\rremote: Counting objects:  55% (71/129)   \u001b[K\rremote: Counting objects:  56% (73/129)   \u001b[K\rremote: Counting objects:  57% (74/129)   \u001b[K\rremote: Counting objects:  58% (75/129)   \u001b[K\rremote: Counting objects:  59% (77/129)   \u001b[K\rremote: Counting objects:  60% (78/129)   \u001b[K\rremote: Counting objects:  61% (79/129)   \u001b[K\rremote: Counting objects:  62% (80/129)   \u001b[K\rremote: Counting objects:  63% (82/129)   \u001b[K\rremote: Counting objects:  64% (83/129)   \u001b[K\rremote: Counting objects:  65% (84/129)   \u001b[K\rremote: Counting objects:  66% (86/129)   \u001b[K\rremote: Counting objects:  67% (87/129)   \u001b[K\rremote: Counting objects:  68% (88/129)   \u001b[K\rremote: Counting objects:  69% (90/129)   \u001b[K\rremote: Counting objects:  70% (91/129)   \u001b[K\rremote: Counting objects:  71% (92/129)   \u001b[K\rremote: Counting objects:  72% (93/129)   \u001b[K\rremote: Counting objects:  73% (95/129)   \u001b[K\rremote: Counting objects:  74% (96/129)   \u001b[K\rremote: Counting objects:  75% (97/129)   \u001b[K\rremote: Counting objects:  76% (99/129)   \u001b[K\rremote: Counting objects:  77% (100/129)   \u001b[K\rremote: Counting objects:  78% (101/129)   \u001b[K\rremote: Counting objects:  79% (102/129)   \u001b[K\rremote: Counting objects:  80% (104/129)   \u001b[K\rremote: Counting objects:  81% (105/129)   \u001b[K\rremote: Counting objects:  82% (106/129)   \u001b[K\rremote: Counting objects:  83% (108/129)   \u001b[K\rremote: Counting objects:  84% (109/129)   \u001b[K\rremote: Counting objects:  85% (110/129)   \u001b[K\rremote: Counting objects:  86% (111/129)   \u001b[K\rremote: Counting objects:  87% (113/129)   \u001b[K\rremote: Counting objects:  88% (114/129)   \u001b[K\rremote: Counting objects:  89% (115/129)   \u001b[K\rremote: Counting objects:  90% (117/129)   \u001b[K\rremote: Counting objects:  91% (118/129)   \u001b[K\rremote: Counting objects:  92% (119/129)   \u001b[K\rremote: Counting objects:  93% (120/129)   \u001b[K\rremote: Counting objects:  94% (122/129)   \u001b[K\rremote: Counting objects:  95% (123/129)   \u001b[K\rremote: Counting objects:  96% (124/129)   \u001b[K\rremote: Counting objects:  97% (126/129)   \u001b[K\rremote: Counting objects:  98% (127/129)   \u001b[K\rremote: Counting objects:  99% (128/129)   \u001b[K\rremote: Counting objects: 100% (129/129)   \u001b[K\rremote: Counting objects: 100% (129/129), done.\u001b[K\n",
            "remote: Compressing objects:   1% (1/83)   \u001b[K\rremote: Compressing objects:   2% (2/83)   \u001b[K\rremote: Compressing objects:   3% (3/83)   \u001b[K\rremote: Compressing objects:   4% (4/83)   \u001b[K\rremote: Compressing objects:   6% (5/83)   \u001b[K\rremote: Compressing objects:   7% (6/83)   \u001b[K\rremote: Compressing objects:   8% (7/83)   \u001b[K\rremote: Compressing objects:   9% (8/83)   \u001b[K\rremote: Compressing objects:  10% (9/83)   \u001b[K\rremote: Compressing objects:  12% (10/83)   \u001b[K\rremote: Compressing objects:  13% (11/83)   \u001b[K\rremote: Compressing objects:  14% (12/83)   \u001b[K\rremote: Compressing objects:  15% (13/83)   \u001b[K\rremote: Compressing objects:  16% (14/83)   \u001b[K\rremote: Compressing objects:  18% (15/83)   \u001b[K\rremote: Compressing objects:  19% (16/83)   \u001b[K\rremote: Compressing objects:  20% (17/83)   \u001b[K\rremote: Compressing objects:  21% (18/83)   \u001b[K\rremote: Compressing objects:  22% (19/83)   \u001b[K\rremote: Compressing objects:  24% (20/83)   \u001b[K\rremote: Compressing objects:  25% (21/83)   \u001b[K\rremote: Compressing objects:  26% (22/83)   \u001b[K\rremote: Compressing objects:  27% (23/83)   \u001b[K\rremote: Compressing objects:  28% (24/83)   \u001b[K\rremote: Compressing objects:  30% (25/83)   \u001b[K\rremote: Compressing objects:  31% (26/83)   \u001b[K\rremote: Compressing objects:  32% (27/83)   \u001b[K\rremote: Compressing objects:  33% (28/83)   \u001b[K\rremote: Compressing objects:  34% (29/83)   \u001b[K\rremote: Compressing objects:  36% (30/83)   \u001b[K\rremote: Compressing objects:  37% (31/83)   \u001b[K\rremote: Compressing objects:  38% (32/83)   \u001b[K\rremote: Compressing objects:  39% (33/83)   \u001b[K\rremote: Compressing objects:  40% (34/83)   \u001b[K\rremote: Compressing objects:  42% (35/83)   \u001b[K\rremote: Compressing objects:  43% (36/83)   \u001b[K\rremote: Compressing objects:  44% (37/83)   \u001b[K\rremote: Compressing objects:  45% (38/83)   \u001b[K\rremote: Compressing objects:  46% (39/83)   \u001b[K\rremote: Compressing objects:  48% (40/83)   \u001b[K\rremote: Compressing objects:  49% (41/83)   \u001b[K\rremote: Compressing objects:  50% (42/83)   \u001b[K\rremote: Compressing objects:  51% (43/83)   \u001b[K\rremote: Compressing objects:  53% (44/83)   \u001b[K\rremote: Compressing objects:  54% (45/83)   \u001b[K\rremote: Compressing objects:  55% (46/83)   \u001b[K\rremote: Compressing objects:  56% (47/83)   \u001b[K\rremote: Compressing objects:  57% (48/83)   \u001b[K\rremote: Compressing objects:  59% (49/83)   \u001b[K\rremote: Compressing objects:  60% (50/83)   \u001b[K\rremote: Compressing objects:  61% (51/83)   \u001b[K\rremote: Compressing objects:  62% (52/83)   \u001b[K\rremote: Compressing objects:  63% (53/83)   \u001b[K\rremote: Compressing objects:  65% (54/83)   \u001b[K\rremote: Compressing objects:  66% (55/83)   \u001b[K\rremote: Compressing objects:  67% (56/83)   \u001b[K\rremote: Compressing objects:  68% (57/83)   \u001b[K\rremote: Compressing objects:  69% (58/83)   \u001b[K\rremote: Compressing objects:  71% (59/83)   \u001b[K\rremote: Compressing objects:  72% (60/83)   \u001b[K\rremote: Compressing objects:  73% (61/83)   \u001b[K\rremote: Compressing objects:  74% (62/83)   \u001b[K\rremote: Compressing objects:  75% (63/83)   \u001b[K\rremote: Compressing objects:  77% (64/83)   \u001b[K\rremote: Compressing objects:  78% (65/83)   \u001b[K\rremote: Compressing objects:  79% (66/83)   \u001b[K\rremote: Compressing objects:  80% (67/83)   \u001b[K\rremote: Compressing objects:  81% (68/83)   \u001b[K\rremote: Compressing objects:  83% (69/83)   \u001b[K\rremote: Compressing objects:  84% (70/83)   \u001b[K\rremote: Compressing objects:  85% (71/83)   \u001b[K\rremote: Compressing objects:  86% (72/83)   \u001b[K\rremote: Compressing objects:  87% (73/83)   \u001b[K\rremote: Compressing objects:  89% (74/83)   \u001b[K\rremote: Compressing objects:  90% (75/83)   \u001b[K\rremote: Compressing objects:  91% (76/83)   \u001b[K\rremote: Compressing objects:  92% (77/83)   \u001b[K\rremote: Compressing objects:  93% (78/83)   \u001b[K\rremote: Compressing objects:  95% (79/83)   \u001b[K\rremote: Compressing objects:  96% (80/83)   \u001b[K\rremote: Compressing objects:  97% (81/83)   \u001b[K\rremote: Compressing objects:  98% (82/83)   \u001b[K\rremote: Compressing objects: 100% (83/83)   \u001b[K\rremote: Compressing objects: 100% (83/83), done.\u001b[K\n",
            "Receiving objects:   0% (1/129)   \rReceiving objects:   1% (2/129)   \rReceiving objects:   2% (3/129)   \rReceiving objects:   3% (4/129)   \rReceiving objects:   4% (6/129)   \rReceiving objects:   5% (7/129)   \rReceiving objects:   6% (8/129)   \rReceiving objects:   7% (10/129)   \rReceiving objects:   8% (11/129)   \rReceiving objects:   9% (12/129)   \rReceiving objects:  10% (13/129)   \rReceiving objects:  11% (15/129)   \rReceiving objects:  12% (16/129)   \rReceiving objects:  13% (17/129)   \rReceiving objects:  14% (19/129)   \rReceiving objects:  15% (20/129)   \rReceiving objects:  16% (21/129)   \rReceiving objects:  17% (22/129)   \rReceiving objects:  18% (24/129)   \rReceiving objects:  19% (25/129)   \rReceiving objects:  20% (26/129)   \rremote: Total 129 (delta 68), reused 95 (delta 40), pack-reused 0\u001b[K\n",
            "Receiving objects:  21% (28/129)   \rReceiving objects:  22% (29/129)   \rReceiving objects:  23% (30/129)   \rReceiving objects:  24% (31/129)   \rReceiving objects:  25% (33/129)   \rReceiving objects:  26% (34/129)   \rReceiving objects:  27% (35/129)   \rReceiving objects:  28% (37/129)   \rReceiving objects:  29% (38/129)   \rReceiving objects:  30% (39/129)   \rReceiving objects:  31% (40/129)   \rReceiving objects:  32% (42/129)   \rReceiving objects:  33% (43/129)   \rReceiving objects:  34% (44/129)   \rReceiving objects:  35% (46/129)   \rReceiving objects:  36% (47/129)   \rReceiving objects:  37% (48/129)   \rReceiving objects:  38% (50/129)   \rReceiving objects:  39% (51/129)   \rReceiving objects:  40% (52/129)   \rReceiving objects:  41% (53/129)   \rReceiving objects:  42% (55/129)   \rReceiving objects:  43% (56/129)   \rReceiving objects:  44% (57/129)   \rReceiving objects:  45% (59/129)   \rReceiving objects:  46% (60/129)   \rReceiving objects:  47% (61/129)   \rReceiving objects:  48% (62/129)   \rReceiving objects:  49% (64/129)   \rReceiving objects:  50% (65/129)   \rReceiving objects:  51% (66/129)   \rReceiving objects:  52% (68/129)   \rReceiving objects:  53% (69/129)   \rReceiving objects:  54% (70/129)   \rReceiving objects:  55% (71/129)   \rReceiving objects:  56% (73/129)   \rReceiving objects:  57% (74/129)   \rReceiving objects:  58% (75/129)   \rReceiving objects:  59% (77/129)   \rReceiving objects:  60% (78/129)   \rReceiving objects:  61% (79/129)   \rReceiving objects:  62% (80/129)   \rReceiving objects:  63% (82/129)   \rReceiving objects:  64% (83/129)   \rReceiving objects:  65% (84/129)   \rReceiving objects:  66% (86/129)   \rReceiving objects:  67% (87/129)   \rReceiving objects:  68% (88/129)   \rReceiving objects:  69% (90/129)   \rReceiving objects:  70% (91/129)   \rReceiving objects:  71% (92/129)   \rReceiving objects:  72% (93/129)   \rReceiving objects:  73% (95/129)   \rReceiving objects:  74% (96/129)   \rReceiving objects:  75% (97/129)   \rReceiving objects:  76% (99/129)   \rReceiving objects:  77% (100/129)   \rReceiving objects:  78% (101/129)   \rReceiving objects:  79% (102/129)   \rReceiving objects:  80% (104/129)   \rReceiving objects:  81% (105/129)   \rReceiving objects:  82% (106/129)   \rReceiving objects:  83% (108/129)   \rReceiving objects:  84% (109/129)   \rReceiving objects:  85% (110/129)   \rReceiving objects:  86% (111/129)   \rReceiving objects:  87% (113/129)   \rReceiving objects:  88% (114/129)   \rReceiving objects:  89% (115/129)   \rReceiving objects:  90% (117/129)   \rReceiving objects:  91% (118/129)   \rReceiving objects:  92% (119/129)   \rReceiving objects:  93% (120/129)   \rReceiving objects:  94% (122/129)   \rReceiving objects:  95% (123/129)   \rReceiving objects:  96% (124/129)   \rReceiving objects:  97% (126/129)   \rReceiving objects:  98% (127/129)   \rReceiving objects:  99% (128/129)   \rReceiving objects: 100% (129/129)   \rReceiving objects: 100% (129/129), 82.37 KiB | 11.77 MiB/s, done.\n",
            "Resolving deltas:   0% (0/68)   \rResolving deltas:  10% (7/68)   \rResolving deltas:  16% (11/68)   \rResolving deltas:  20% (14/68)   \rResolving deltas:  22% (15/68)   \rResolving deltas:  30% (21/68)   \rResolving deltas:  33% (23/68)   \rResolving deltas:  35% (24/68)   \rResolving deltas:  54% (37/68)   \rResolving deltas:  58% (40/68)   \rResolving deltas:  60% (41/68)   \rResolving deltas:  61% (42/68)   \rResolving deltas:  64% (44/68)   \rResolving deltas:  69% (47/68)   \rResolving deltas:  73% (50/68)   \rResolving deltas:  77% (53/68)   \rResolving deltas:  86% (59/68)   \rResolving deltas:  89% (61/68)   \rResolving deltas:  92% (63/68)   \rResolving deltas: 100% (68/68)   \rResolving deltas: 100% (68/68), done.\n"
          ],
          "name": "stdout"
        }
      ]
    },
    {
      "metadata": {
        "id": "oD9pbGpcdxX7",
        "colab_type": "code",
        "colab": {
          "base_uri": "https://localhost:8080/",
          "height": 55
        },
        "outputId": "0899f9ee-f562-4a15-bd54-171d2aeeab9e"
      },
      "cell_type": "code",
      "source": [
        "# Script to install torch on Google colab\n",
        "# http://pytorch.org/\n",
        "from os.path import exists\n",
        "from wheel.pep425tags import get_abbr_impl, get_impl_ver, get_abi_tag\n",
        "platform = '{}{}-{}'.format(get_abbr_impl(), get_impl_ver(), get_abi_tag())\n",
        "cuda_output = !ldconfig -p|grep cudart.so|sed -e 's/.*\\.\\([0-9]*\\)\\.\\([0-9]*\\)$/cu\\1\\2/'\n",
        "accelerator = cuda_output[0] if exists('/dev/nvidia0') else 'cpu'\n",
        "\n",
        "!pip install -q http://download.pytorch.org/whl/{accelerator}/torch-0.4.1-{platform}-linux_x86_64.whl torchvision\n",
        "import torch"
      ],
      "execution_count": 2,
      "outputs": [
        {
          "output_type": "stream",
          "text": [
            "tcmalloc: large alloc 1073750016 bytes == 0x57bf4000 @  0x7f445fc502a4 0x591a07 0x5b5d56 0x502e9a 0x506859 0x502209 0x502f3d 0x506859 0x504c28 0x502540 0x502f3d 0x506859 0x504c28 0x502540 0x502f3d 0x506859 0x504c28 0x502540 0x502f3d 0x507641 0x502209 0x502f3d 0x506859 0x504c28 0x502540 0x502f3d 0x507641 0x504c28 0x502540 0x502f3d 0x507641\n"
          ],
          "name": "stdout"
        }
      ]
    },
    {
      "metadata": {
        "id": "NXCk25J6digY",
        "colab_type": "code",
        "colab": {}
      },
      "cell_type": "code",
      "source": [
        "import math, random\n",
        "import sys \n",
        "sys.path.append('Drop7Gym') #hack to import module from parent folder\n",
        "import gym_drop7\n",
        "import gym\n",
        "import numpy as np\n",
        "\n",
        "import torch\n",
        "import torch.nn as nn\n",
        "import torch.optim as optim\n",
        "import torch.autograd as autograd \n",
        "import torch.nn.functional as F\n",
        "from torch.autograd import Variable\n",
        "\n",
        "from IPython.display import clear_output\n",
        "import matplotlib.pyplot as plt\n"
      ],
      "execution_count": 0,
      "outputs": []
    },
    {
      "metadata": {
        "id": "B9uDHkCAlA6g",
        "colab_type": "text"
      },
      "cell_type": "markdown",
      "source": [
        "## It follows the code we found from the source"
      ]
    },
    {
      "metadata": {
        "id": "4XtCnqZ0dWyq",
        "colab_type": "code",
        "colab": {}
      },
      "cell_type": "code",
      "source": [
        "class SegmentTree(object):\n",
        "    def __init__(self, capacity, operation, neutral_element):\n",
        "        \"\"\"Build a Segment Tree data structure.\n",
        "        https://en.wikipedia.org/wiki/Segment_tree\n",
        "        Can be used as regular array, but with two\n",
        "        important differences:\n",
        "            a) setting item's value is slightly slower.\n",
        "               It is O(lg capacity) instead of O(1).\n",
        "            b) user has access to an efficient `reduce`\n",
        "               operation which reduces `operation` over\n",
        "               a contiguous subsequence of items in the\n",
        "               array.\n",
        "        Paramters\n",
        "        ---------\n",
        "        capacity: int\n",
        "            Total size of the array - must be a power of two.\n",
        "        operation: lambda obj, obj -> obj\n",
        "            and operation for combining elements (eg. sum, max)\n",
        "            must for a mathematical group together with the set of\n",
        "            possible values for array elements.\n",
        "        neutral_element: obj\n",
        "            neutral element for the operation above. eg. float('-inf')\n",
        "            for max and 0 for sum.\n",
        "        \"\"\"\n",
        "        assert capacity > 0 and capacity & (capacity - 1) == 0, \"capacity must be positive and a power of 2.\"\n",
        "        self._capacity = capacity\n",
        "        self._value = [neutral_element for _ in range(2 * capacity)]\n",
        "        self._operation = operation\n",
        "\n",
        "    def _reduce_helper(self, start, end, node, node_start, node_end):\n",
        "        if start == node_start and end == node_end:\n",
        "            return self._value[node]\n",
        "        mid = (node_start + node_end) // 2\n",
        "        if end <= mid:\n",
        "            return self._reduce_helper(start, end, 2 * node, node_start, mid)\n",
        "        else:\n",
        "            if mid + 1 <= start:\n",
        "                return self._reduce_helper(start, end, 2 * node + 1, mid + 1, node_end)\n",
        "            else:\n",
        "                return self._operation(\n",
        "                    self._reduce_helper(start, mid, 2 * node, node_start, mid),\n",
        "                    self._reduce_helper(mid + 1, end, 2 * node + 1, mid + 1, node_end)\n",
        "                )\n",
        "\n",
        "    def reduce(self, start=0, end=None):\n",
        "        \"\"\"Returns result of applying `self.operation`\n",
        "        to a contiguous subsequence of the array.\n",
        "            self.operation(arr[start], operation(arr[start+1], operation(... arr[end])))\n",
        "        Parameters\n",
        "        ----------\n",
        "        start: int\n",
        "            beginning of the subsequence\n",
        "        end: int\n",
        "            end of the subsequences\n",
        "        Returns\n",
        "        -------\n",
        "        reduced: obj\n",
        "            result of reducing self.operation over the specified range of array elements.\n",
        "        \"\"\"\n",
        "        if end is None:\n",
        "            end = self._capacity\n",
        "        if end < 0:\n",
        "            end += self._capacity\n",
        "        end -= 1\n",
        "        return self._reduce_helper(start, end, 1, 0, self._capacity - 1)\n",
        "\n",
        "    def __setitem__(self, idx, val):\n",
        "        # index of the leaf\n",
        "        idx += self._capacity\n",
        "        self._value[idx] = val\n",
        "        idx //= 2\n",
        "        while idx >= 1:\n",
        "            self._value[idx] = self._operation(\n",
        "                self._value[2 * idx],\n",
        "                self._value[2 * idx + 1]\n",
        "            )\n",
        "            idx //= 2\n",
        "\n",
        "    def __getitem__(self, idx):\n",
        "        assert 0 <= idx < self._capacity\n",
        "        return self._value[self._capacity + idx]\n",
        "\n",
        "\n",
        "class SumSegmentTree(SegmentTree):\n",
        "    def __init__(self, capacity):\n",
        "        super(SumSegmentTree, self).__init__(\n",
        "            capacity=capacity,\n",
        "            operation=operator.add,\n",
        "            neutral_element=0.0\n",
        "        )\n",
        "\n",
        "    def sum(self, start=0, end=None):\n",
        "        \"\"\"Returns arr[start] + ... + arr[end]\"\"\"\n",
        "        return super(SumSegmentTree, self).reduce(start, end)\n",
        "\n",
        "    def find_prefixsum_idx(self, prefixsum):\n",
        "        \"\"\"Find the highest index `i` in the array such that\n",
        "            sum(arr[0] + arr[1] + ... + arr[i - i]) <= prefixsum\n",
        "        if array values are probabilities, this function\n",
        "        allows to sample indexes according to the discrete\n",
        "        probability efficiently.\n",
        "        Parameters\n",
        "        ----------\n",
        "        perfixsum: float\n",
        "            upperbound on the sum of array prefix\n",
        "        Returns\n",
        "        -------\n",
        "        idx: int\n",
        "            highest index satisfying the prefixsum constraint\n",
        "        \"\"\"\n",
        "        assert 0 <= prefixsum <= self.sum() + 1e-5\n",
        "        idx = 1\n",
        "        while idx < self._capacity:  # while non-leaf\n",
        "            if self._value[2 * idx] > prefixsum:\n",
        "                idx = 2 * idx\n",
        "            else:\n",
        "                prefixsum -= self._value[2 * idx]\n",
        "                idx = 2 * idx + 1\n",
        "        return idx - self._capacity\n",
        "\n",
        "\n",
        "class MinSegmentTree(SegmentTree):\n",
        "    def __init__(self, capacity):\n",
        "        super(MinSegmentTree, self).__init__(\n",
        "            capacity=capacity,\n",
        "            operation=min,\n",
        "            neutral_element=float('inf')\n",
        "        )\n",
        "\n",
        "    def min(self, start=0, end=None):\n",
        "        \"\"\"Returns min(arr[start], ...,  arr[end])\"\"\"\n",
        "\n",
        "        return super(MinSegmentTree, self).reduce(start, end)\n",
        "\n",
        "\n",
        "class ReplayBuffer(object):\n",
        "    def __init__(self, size):\n",
        "        \"\"\"Create Replay buffer.\n",
        "        Parameters\n",
        "        ----------\n",
        "        size: int\n",
        "            Max number of transitions to store in the buffer. When the buffer\n",
        "            overflows the old memories are dropped.\n",
        "        \"\"\"\n",
        "        self._storage = []\n",
        "        self._maxsize = size\n",
        "        self._next_idx = 0\n",
        "\n",
        "    def __len__(self):\n",
        "        return len(self._storage)\n",
        "\n",
        "    def push(self, state, action, reward, next_state, done):\n",
        "        data = (state, action, reward, next_state, done)\n",
        "\n",
        "        if self._next_idx >= len(self._storage):\n",
        "            self._storage.append(data)\n",
        "        else:\n",
        "            self._storage[self._next_idx] = data\n",
        "        self._next_idx = (self._next_idx + 1) % self._maxsize\n",
        "\n",
        "    def _encode_sample(self, idxes):\n",
        "        obses_t, actions, rewards, obses_tp1, dones = [], [], [], [], []\n",
        "        for i in idxes:\n",
        "            data = self._storage[i]\n",
        "            obs_t, action, reward, obs_tp1, done = data\n",
        "            obses_t.append(np.array(obs_t, copy=False))\n",
        "            actions.append(np.array(action, copy=False))\n",
        "            rewards.append(reward)\n",
        "            obses_tp1.append(np.array(obs_tp1, copy=False))\n",
        "            dones.append(done)\n",
        "        return np.array(obses_t), np.array(actions), np.array(rewards), np.array(obses_tp1), np.array(dones)\n",
        "\n",
        "    def sample(self, batch_size):\n",
        "        \"\"\"Sample a batch of experiences.\n",
        "        Parameters\n",
        "        ----------\n",
        "        batch_size: int\n",
        "            How many transitions to sample.\n",
        "        Returns\n",
        "        -------\n",
        "        obs_batch: np.array\n",
        "            batch of observations\n",
        "        act_batch: np.array\n",
        "            batch of actions executed given obs_batch\n",
        "        rew_batch: np.array\n",
        "            rewards received as results of executing act_batch\n",
        "        next_obs_batch: np.array\n",
        "            next set of observations seen after executing act_batch\n",
        "        done_mask: np.array\n",
        "            done_mask[i] = 1 if executing act_batch[i] resulted in\n",
        "            the end of an episode and 0 otherwise.\n",
        "        \"\"\"\n",
        "        idxes = [random.randint(0, len(self._storage) - 1) for _ in range(batch_size)]\n",
        "        return self._encode_sample(idxes)\n",
        "\n",
        "\n",
        "class PrioritizedReplayBuffer(ReplayBuffer):\n",
        "    def __init__(self, size, alpha):\n",
        "        \"\"\"Create Prioritized Replay buffer.\n",
        "        Parameters\n",
        "        ----------\n",
        "        size: int\n",
        "            Max number of transitions to store in the buffer. When the buffer\n",
        "            overflows the old memories are dropped.\n",
        "        alpha: float\n",
        "            how much prioritization is used\n",
        "            (0 - no prioritization, 1 - full prioritization)\n",
        "        See Also\n",
        "        --------\n",
        "        ReplayBuffer.__init__\n",
        "        \"\"\"\n",
        "        super(PrioritizedReplayBuffer, self).__init__(size)\n",
        "        assert alpha > 0\n",
        "        self._alpha = alpha\n",
        "\n",
        "        it_capacity = 1\n",
        "        while it_capacity < size:\n",
        "            it_capacity *= 2\n",
        "\n",
        "        self._it_sum = SumSegmentTree(it_capacity)\n",
        "        self._it_min = MinSegmentTree(it_capacity)\n",
        "        self._max_priority = 1.0\n",
        "\n",
        "    def push(self, *args, **kwargs):\n",
        "        \"\"\"See ReplayBuffer.store_effect\"\"\"\n",
        "        idx = self._next_idx\n",
        "        super(PrioritizedReplayBuffer, self).push(*args, **kwargs)\n",
        "        self._it_sum[idx] = self._max_priority ** self._alpha\n",
        "        self._it_min[idx] = self._max_priority ** self._alpha\n",
        "\n",
        "    def _sample_proportional(self, batch_size):\n",
        "        res = []\n",
        "        for _ in range(batch_size):\n",
        "            # TODO(szymon): should we ensure no repeats?\n",
        "            mass = random.random() * self._it_sum.sum(0, len(self._storage) - 1)\n",
        "            idx = self._it_sum.find_prefixsum_idx(mass)\n",
        "            res.append(idx)\n",
        "        return res\n",
        "\n",
        "    def sample(self, batch_size, beta):\n",
        "        \"\"\"Sample a batch of experiences.\n",
        "        compared to ReplayBuffer.sample\n",
        "        it also returns importance weights and idxes\n",
        "        of sampled experiences.\n",
        "        Parameters\n",
        "        ----------\n",
        "        batch_size: int\n",
        "            How many transitions to sample.\n",
        "        beta: float\n",
        "            To what degree to use importance weights\n",
        "            (0 - no corrections, 1 - full correction)\n",
        "        Returns\n",
        "        -------\n",
        "        obs_batch: np.array\n",
        "            batch of observations\n",
        "        act_batch: np.array\n",
        "            batch of actions executed given obs_batch\n",
        "        rew_batch: np.array\n",
        "            rewards received as results of executing act_batch\n",
        "        next_obs_batch: np.array\n",
        "            next set of observations seen after executing act_batch\n",
        "        done_mask: np.array\n",
        "            done_mask[i] = 1 if executing act_batch[i] resulted in\n",
        "            the end of an episode and 0 otherwise.\n",
        "        weights: np.array\n",
        "            Array of shape (batch_size,) and dtype np.float32\n",
        "            denoting importance weight of each sampled transition\n",
        "        idxes: np.array\n",
        "            Array of shape (batch_size,) and dtype np.int32\n",
        "            idexes in buffer of sampled experiences\n",
        "        \"\"\"\n",
        "        assert beta > 0\n",
        "\n",
        "        idxes = self._sample_proportional(batch_size)\n",
        "\n",
        "        weights = []\n",
        "        p_min = self._it_min.min() / self._it_sum.sum()\n",
        "        max_weight = (p_min * len(self._storage)) ** (-beta)\n",
        "\n",
        "        for idx in idxes:\n",
        "            p_sample = self._it_sum[idx] / self._it_sum.sum()\n",
        "            weight = (p_sample * len(self._storage)) ** (-beta)\n",
        "            weights.append(weight / max_weight)\n",
        "        weights = np.array(weights)\n",
        "        encoded_sample = self._encode_sample(idxes)\n",
        "        return tuple(list(encoded_sample) + [weights, idxes])\n",
        "\n",
        "    def update_priorities(self, idxes, priorities):\n",
        "        \"\"\"Update priorities of sampled transitions.\n",
        "        sets priority of transition at index idxes[i] in buffer\n",
        "        to priorities[i].\n",
        "        Parameters\n",
        "        ----------\n",
        "        idxes: [int]\n",
        "            List of idxes of sampled transitions\n",
        "        priorities: [float]\n",
        "            List of updated priorities corresponding to\n",
        "            transitions at the sampled idxes denoted by\n",
        "            variable `idxes`.\n",
        "        \"\"\"\n",
        "        assert len(idxes) == len(priorities)\n",
        "        for idx, priority in zip(idxes, priorities):\n",
        "            assert priority > 0\n",
        "            assert 0 <= idx < len(self._storage)\n",
        "            self._it_sum[idx] = priority ** self._alpha\n",
        "            self._it_min[idx] = priority ** self._alpha\n",
        "\n",
        "            self._max_priority = max(self._max_priority, priority)\n"
      ],
      "execution_count": 0,
      "outputs": []
    },
    {
      "metadata": {
        "id": "CMkmZ2IaeYaZ",
        "colab_type": "code",
        "colab": {}
      },
      "cell_type": "code",
      "source": [
        "class NoisyLinear(nn.Module):\n",
        "    def __init__(self, in_features, out_features, use_cuda, std_init=0.4):\n",
        "        super(NoisyLinear, self).__init__()\n",
        "        \n",
        "        self.use_cuda     = use_cuda\n",
        "        self.in_features  = in_features\n",
        "        self.out_features = out_features\n",
        "        self.std_init     = std_init\n",
        "        \n",
        "        self.weight_mu    = nn.Parameter(torch.FloatTensor(out_features, in_features))\n",
        "        self.weight_sigma = nn.Parameter(torch.FloatTensor(out_features, in_features))\n",
        "        self.register_buffer('weight_epsilon', torch.FloatTensor(out_features, in_features))\n",
        "        \n",
        "        self.bias_mu    = nn.Parameter(torch.FloatTensor(out_features))\n",
        "        self.bias_sigma = nn.Parameter(torch.FloatTensor(out_features))\n",
        "        self.register_buffer('bias_epsilon', torch.FloatTensor(out_features))\n",
        "        \n",
        "        self.reset_parameters()\n",
        "        self.reset_noise()\n",
        "    \n",
        "    def forward(self, x):\n",
        "        if self.use_cuda:\n",
        "            weight_epsilon = self.weight_epsilon.cuda()\n",
        "            bias_epsilon   = self.bias_epsilon.cuda()\n",
        "        else:\n",
        "            weight_epsilon = self.weight_epsilon\n",
        "            bias_epsilon   = self.bias_epsilon\n",
        "            \n",
        "        if self.training: \n",
        "            weight = self.weight_mu + self.weight_sigma.mul(Variable(weight_epsilon))\n",
        "            bias   = self.bias_mu   + self.bias_sigma.mul(Variable(bias_epsilon))\n",
        "        else:\n",
        "            weight = self.weight_mu\n",
        "            bias   = self.bias_mu\n",
        "        \n",
        "        return F.linear(x, weight, bias)\n",
        "    \n",
        "    def reset_parameters(self):\n",
        "        mu_range = 1 / math.sqrt(self.weight_mu.size(1))\n",
        "        \n",
        "        self.weight_mu.data.uniform_(-mu_range, mu_range)\n",
        "        self.weight_sigma.data.fill_(self.std_init / math.sqrt(self.weight_sigma.size(1)))\n",
        "        \n",
        "        self.bias_mu.data.uniform_(-mu_range, mu_range)\n",
        "        self.bias_sigma.data.fill_(self.std_init / math.sqrt(self.bias_sigma.size(0)))\n",
        "    \n",
        "    def reset_noise(self):\n",
        "        epsilon_in  = self._scale_noise(self.in_features)\n",
        "        epsilon_out = self._scale_noise(self.out_features)\n",
        "        \n",
        "        self.weight_epsilon.copy_(epsilon_out.ger(epsilon_in))\n",
        "        self.bias_epsilon.copy_(self._scale_noise(self.out_features))\n",
        "    \n",
        "    def _scale_noise(self, size):\n",
        "        x = torch.randn(size)\n",
        "        x = x.sign().mul(x.abs().sqrt())\n",
        "        return x"
      ],
      "execution_count": 0,
      "outputs": []
    },
    {
      "metadata": {
        "id": "JlInmkRVeY4L",
        "colab_type": "code",
        "colab": {}
      },
      "cell_type": "code",
      "source": [
        "USE_CUDA = torch.cuda.is_available()\n",
        "Variable = lambda *args, **kwargs: autograd.Variable(*args, **kwargs).cuda() if USE_CUDA else autograd.Variable(*args, **kwargs)"
      ],
      "execution_count": 0,
      "outputs": []
    },
    {
      "metadata": {
        "id": "owE9wvB3ea8b",
        "colab_type": "code",
        "colab": {}
      },
      "cell_type": "code",
      "source": [
        "class RainbowDQN(nn.Module):\n",
        "    def __init__(self, num_inputs, num_actions, num_atoms, Vmin, Vmax):\n",
        "        super(RainbowDQN, self).__init__()\n",
        "        \n",
        "        self.num_inputs   = num_inputs\n",
        "        self.num_actions  = num_actions\n",
        "        self.num_atoms    = num_atoms\n",
        "        self.Vmin         = Vmin\n",
        "        self.Vmax         = Vmax\n",
        "        \n",
        "        self.linear1 = nn.Linear(num_inputs, 32)\n",
        "        self.linear2 = nn.Linear(32, 64)\n",
        "        \n",
        "        self.noisy_value1 = NoisyLinear(64, 64, use_cuda=USE_CUDA)\n",
        "        self.noisy_value2 = NoisyLinear(64, self.num_atoms, use_cuda=USE_CUDA)\n",
        "        \n",
        "        self.noisy_advantage1 = NoisyLinear(64, 64, use_cuda=USE_CUDA)\n",
        "        self.noisy_advantage2 = NoisyLinear(64, self.num_atoms * self.num_actions, use_cuda=USE_CUDA)\n",
        "        \n",
        "    def forward(self, x):\n",
        "        batch_size = x.size(0)\n",
        "        \n",
        "        x = F.relu(self.linear1(x))\n",
        "        x = F.relu(self.linear2(x))\n",
        "        \n",
        "        value = F.relu(self.noisy_value1(x))\n",
        "        value = self.noisy_value2(value)\n",
        "        \n",
        "        advantage = F.relu(self.noisy_advantage1(x))\n",
        "        advantage = self.noisy_advantage2(advantage)\n",
        "        \n",
        "        value     = value.view(batch_size, 1, self.num_atoms)\n",
        "        advantage = advantage.view(batch_size, self.num_actions, self.num_atoms)\n",
        "        \n",
        "        x = value + advantage - advantage.mean(1, keepdim=True)\n",
        "        x = F.softmax(x.view(-1, self.num_atoms)).view(-1, self.num_actions, self.num_atoms)\n",
        "        \n",
        "        return x\n",
        "        \n",
        "    def reset_noise(self):\n",
        "        self.noisy_value1.reset_noise()\n",
        "        self.noisy_value2.reset_noise()\n",
        "        self.noisy_advantage1.reset_noise()\n",
        "        self.noisy_advantage2.reset_noise()\n",
        "    \n",
        "    def act(self, state):\n",
        "        with torch.no_grad():\n",
        "          state = Variable(torch.FloatTensor(state).unsqueeze(0))\n",
        "        dist = self.forward(state).data.cpu()\n",
        "        dist = dist * torch.linspace(self.Vmin, self.Vmax, self.num_atoms)\n",
        "        action = dist.sum(2).max(1)[1].numpy()[0]\n",
        "        return action"
      ],
      "execution_count": 0,
      "outputs": []
    },
    {
      "metadata": {
        "id": "r6zd2XbIlLo0",
        "colab_type": "text"
      },
      "cell_type": "markdown",
      "source": [
        "## We used the following to convert our observation space into a 1dim array to fit the network"
      ]
    },
    {
      "metadata": {
        "id": "cwKKEOH-elit",
        "colab_type": "code",
        "colab": {}
      },
      "cell_type": "code",
      "source": [
        "def prepare_input(tuple):\n",
        "  number_to_insert = tuple[0]\n",
        "  field = tuple[1]\n",
        "  field += 2\n",
        "  inputmatrix = field.reshape(1, -1)\n",
        "  inputmatrix = np.append(inputmatrix, [[number_to_insert]], axis = 1)\n",
        "  return inputmatrix\n",
        "\n",
        "def normalized(a, axis=-1, order=2):\n",
        "    l2 = np.atleast_1d(np.linalg.norm(a, order, axis))\n",
        "    l2[l2==0] = 1\n",
        "    return a / np.expand_dims(l2, axis)\n",
        "  \n",
        "  "
      ],
      "execution_count": 0,
      "outputs": []
    },
    {
      "metadata": {
        "id": "LzNincdalhrW",
        "colab_type": "text"
      },
      "cell_type": "markdown",
      "source": [
        "## Preparing the environment, setting the learning rate and declaring the models"
      ]
    },
    {
      "metadata": {
        "id": "9uW_79LvecRd",
        "colab_type": "code",
        "outputId": "744447a0-2949-4fec-c287-e8e13ea24881",
        "colab": {
          "base_uri": "https://localhost:8080/",
          "height": 54
        }
      },
      "cell_type": "code",
      "source": [
        "env = gym.make('Drop7-v1')\n",
        "\n",
        "num_atoms = 51\n",
        "Vmin = 0\n",
        "Vmax = 6\n",
        "num_input = prepare_input(env.get_state()).shape[1]\n",
        "current_model = RainbowDQN(num_input, env.action_space.n, num_atoms, Vmin, Vmax)\n",
        "target_model  = RainbowDQN(num_input, env.action_space.n, num_atoms, Vmin, Vmax)\n",
        "\n",
        "if USE_CUDA:\n",
        "    current_model = current_model.cuda()\n",
        "    target_model  = target_model.cuda()\n",
        "    \n",
        "optimizer = optim.Adam(current_model.parameters(), 0.002)\n",
        "\n",
        "replay_buffer = ReplayBuffer(10000)"
      ],
      "execution_count": 28,
      "outputs": [
        {
          "output_type": "stream",
          "text": [
            "/usr/local/lib/python3.6/dist-packages/gym/envs/registration.py:14: PkgResourcesDeprecationWarning: Parameters to load are deprecated.  Call .resolve and .require separately.\n",
            "  result = entry_point.load(False)\n"
          ],
          "name": "stderr"
        }
      ]
    },
    {
      "metadata": {
        "id": "jHnznBuoe6Pw",
        "colab_type": "code",
        "colab": {}
      },
      "cell_type": "code",
      "source": [
        "def compute_td_loss(batch_size):\n",
        "    state, action, reward, next_state, done = replay_buffer.sample(batch_size) \n",
        "\n",
        "    state      = Variable(torch.FloatTensor(np.float32(state)))\n",
        "    with torch.no_grad():\n",
        "      next_state = Variable(torch.FloatTensor(np.float32(next_state)))\n",
        "    action     = Variable(torch.LongTensor(action))\n",
        "    reward     = torch.FloatTensor(reward)\n",
        "    done       = torch.FloatTensor(np.float32(done))\n",
        "\n",
        "    proj_dist = projection_distribution(next_state, reward, done)\n",
        "    \n",
        "    dist = current_model(state)\n",
        "    action = action.unsqueeze(1).unsqueeze(1).expand(batch_size, 1, num_atoms)\n",
        "    dist = dist.gather(1, action).squeeze(1)\n",
        "    dist.data.clamp_(0.01, 0.99)\n",
        "    loss = -(Variable(proj_dist) * dist.log()).sum(1)\n",
        "    loss  = loss.mean()\n",
        "        \n",
        "    optimizer.zero_grad()\n",
        "    loss.backward()\n",
        "    optimizer.step()\n",
        "\n",
        "    current_model.reset_noise()\n",
        "    target_model.reset_noise()\n",
        "    \n",
        "    return loss"
      ],
      "execution_count": 0,
      "outputs": []
    },
    {
      "metadata": {
        "id": "Ub5PriXLfpht",
        "colab_type": "code",
        "colab": {}
      },
      "cell_type": "code",
      "source": [
        "def update_target(current_model, target_model):\n",
        "    target_model.load_state_dict(current_model.state_dict())\n",
        "    \n",
        "update_target(current_model, target_model)"
      ],
      "execution_count": 0,
      "outputs": []
    },
    {
      "metadata": {
        "id": "oP4d6N-ZfBRF",
        "colab_type": "code",
        "colab": {}
      },
      "cell_type": "code",
      "source": [
        "def projection_distribution(next_state, rewards, dones):\n",
        "    batch_size  = next_state.size(0)\n",
        "    \n",
        "    delta_z = float(Vmax - Vmin) / (num_atoms - 1)\n",
        "    support = torch.linspace(Vmin, Vmax, num_atoms)\n",
        "    \n",
        "    next_dist   = target_model(next_state).data.cpu() * support\n",
        "    next_action = next_dist.sum(2).max(1)[1]\n",
        "    next_action = next_action.unsqueeze(1).unsqueeze(1).expand(next_dist.size(0), 1, next_dist.size(2))\n",
        "    next_dist   = next_dist.gather(1, next_action).squeeze(1)\n",
        "        \n",
        "    rewards = rewards.unsqueeze(1).expand_as(next_dist)\n",
        "    dones   = dones.unsqueeze(1).expand_as(next_dist)\n",
        "    support = support.unsqueeze(0).expand_as(next_dist)\n",
        "    \n",
        "    Tz = rewards + (1 - dones) * 0.99 * support\n",
        "    Tz = Tz.clamp(min=Vmin, max=Vmax)\n",
        "    b  = (Tz - Vmin) / delta_z\n",
        "    l  = b.floor().long()\n",
        "    u  = b.ceil().long()\n",
        "        \n",
        "    offset = torch.linspace(0, (batch_size - 1) * num_atoms, batch_size).long()\\\n",
        "                    .unsqueeze(1).expand(batch_size, num_atoms)\n",
        "\n",
        "    proj_dist = torch.zeros(next_dist.size())    \n",
        "    proj_dist.view(-1).index_add_(0, (l + offset).view(-1), (next_dist * (u.float() - b)).view(-1))\n",
        "    proj_dist.view(-1).index_add_(0, (u + offset).view(-1), (next_dist * (b - l.float())).view(-1))\n",
        "        \n",
        "    return proj_dist"
      ],
      "execution_count": 0,
      "outputs": []
    },
    {
      "metadata": {
        "id": "z06whYhde6XA",
        "colab_type": "code",
        "colab": {}
      },
      "cell_type": "code",
      "source": [
        "def plot(frame_idx, rewards, losses):\n",
        "    clear_output(True)\n",
        "    plt.figure(figsize=(20,5))\n",
        "    plt.subplot(131)\n",
        "    plt.title('frame %s. reward: %s' % (frame_idx, np.mean(rewards[-10:])))\n",
        "    plt.plot(rewards)\n",
        "    plt.subplot(132)\n",
        "    plt.title('loss')\n",
        "    plt.plot(losses)\n",
        "    plt.show()"
      ],
      "execution_count": 0,
      "outputs": []
    },
    {
      "metadata": {
        "id": "dMTKRjplRTIr",
        "colab_type": "code",
        "colab": {
          "base_uri": "https://localhost:8080/",
          "height": 54
        },
        "outputId": "e815c8d0-8fdd-4726-d8dd-94fbd40fb379"
      },
      "cell_type": "code",
      "source": [
        "env = gym.make('Drop7-v1')\n"
      ],
      "execution_count": 18,
      "outputs": [
        {
          "output_type": "stream",
          "text": [
            "/usr/local/lib/python3.6/dist-packages/gym/envs/registration.py:14: PkgResourcesDeprecationWarning: Parameters to load are deprecated.  Call .resolve and .require separately.\n",
            "  result = entry_point.load(False)\n"
          ],
          "name": "stderr"
        }
      ]
    },
    {
      "metadata": {
        "id": "yT_E9ZePOC1Q",
        "colab_type": "text"
      },
      "cell_type": "markdown",
      "source": [
        "# First run with adapted hyperparameter\n",
        "using learning rate of 0.01 and smaller batches than from the source"
      ]
    },
    {
      "metadata": {
        "id": "3GohpzDKeeCA",
        "colab_type": "code",
        "outputId": "b4c50f16-0225-4b5f-d027-3c349372925c",
        "colab": {
          "base_uri": "https://localhost:8080/",
          "height": 335
        }
      },
      "cell_type": "code",
      "source": [
        "\n",
        "num_frames = 60000\n",
        "batch_size = 100\n",
        "gamma      = 0.99\n",
        "\n",
        "losses = []\n",
        "all_rewards = []\n",
        "episode_reward = 0\n",
        "\n",
        "state = env.reset()\n",
        "state = prepare_input(state)\n",
        "for frame_idx in range(1, num_frames + 1):\n",
        "    action = current_model.act(state)\n",
        "    \n",
        "    next_state, reward, done, _ = env.step(action)\n",
        "    next_state = prepare_input(next_state)\n",
        "\n",
        "    replay_buffer.push(state, action, reward, next_state, done)\n",
        "    \n",
        "    state = next_state\n",
        "    episode_reward += reward\n",
        "    \n",
        "    if done:\n",
        "        state = env.reset()\n",
        "        state = prepare_input(state)\n",
        "        all_rewards.append(episode_reward)\n",
        "        episode_reward = 0\n",
        "        \n",
        "    if len(replay_buffer) > batch_size:\n",
        "        loss = compute_td_loss(batch_size)\n",
        "        losses.append(loss.item())\n",
        "        \n",
        "    if frame_idx % 200 == 0:\n",
        "        plot(frame_idx, all_rewards, losses)\n",
        "        \n",
        "    if frame_idx % 1000 == 0:\n",
        "        update_target(current_model, target_model)"
      ],
      "execution_count": 27,
      "outputs": [
        {
          "output_type": "display_data",
          "data": {
            "image/png": "[encoded data removed]",
            "text/plain": [
              "<matplotlib.figure.Figure at 0x7f47d02c6eb8>"
            ]
          },
          "metadata": {
            "tags": []
          }
        }
      ]
    },
    {
      "metadata": {
        "id": "0vOKu1G_m9oX",
        "colab_type": "text"
      },
      "cell_type": "markdown",
      "source": [
        "# Second run\n",
        "+ reward alteration: We try to help the model learn that surviving is the goal (we add 1 to the reward after each step)\n",
        "+ faster update_target\n",
        "and longer training"
      ]
    },
    {
      "metadata": {
        "id": "BXM0lagEm-Ki",
        "colab_type": "code",
        "colab": {
          "base_uri": "https://localhost:8080/",
          "height": 335
        },
        "outputId": "e31c1d2e-2e11-472a-acbd-fec4dd8deaad"
      },
      "cell_type": "code",
      "source": [
        "num_frames = 120000\n",
        "batch_size = 100\n",
        "gamma      = 0.99\n",
        "\n",
        "losses = []\n",
        "all_rewards = []\n",
        "episode_reward = 0\n",
        "\n",
        "state = env.reset()\n",
        "state = prepare_input(state)\n",
        "for frame_idx in range(1, num_frames + 1):\n",
        "    action = current_model.act(state)\n",
        "    \n",
        "    next_state, reward, done, _ = env.step(action)\n",
        "    next_state = prepare_input(next_state)\n",
        "    \n",
        "    #trying to help the agent to learn to survive\n",
        "    reward += 1\n",
        "    \n",
        "    \n",
        "    replay_buffer.push(state, action, reward, next_state, done)\n",
        "    \n",
        "    state = next_state\n",
        "    episode_reward += reward\n",
        "    \n",
        "    if done:\n",
        "        state = env.reset()\n",
        "        state = prepare_input(state)\n",
        "        all_rewards.append(episode_reward)\n",
        "        episode_reward = 0\n",
        "        \n",
        "    if len(replay_buffer) > batch_size:\n",
        "        loss = compute_td_loss(batch_size)\n",
        "        losses.append(loss.item())\n",
        "        \n",
        "    if frame_idx % 200 == 0:\n",
        "        plot(frame_idx, all_rewards, losses)\n",
        "        \n",
        "    if frame_idx % 500 == 0:\n",
        "        update_target(current_model, target_model)"
      ],
      "execution_count": 28,
      "outputs": [
        {
          "output_type": "display_data",
          "data": {
            "image/png": "[encoded data removed]",
            "text/plain": [
              "<matplotlib.figure.Figure at 0x7f47d029bc18>"
            ]
          },
          "metadata": {
            "tags": []
          }
        }
      ]
    },
    {
      "metadata": {
        "id": "S3C7SG_gmH90",
        "colab_type": "text"
      },
      "cell_type": "markdown",
      "source": [
        "## Result\n",
        "Even though the loss converges at the beginning very quickly, we suspect that it massively overfits after around 600 episodes."
      ]
    },
    {
      "metadata": {
        "id": "ifIC2zrj3NKF",
        "colab_type": "text"
      },
      "cell_type": "markdown",
      "source": [
        "# Bigger model\n",
        "We doubled the size of the linear layer by 2 and reverted the decision to award + 1 to the reward."
      ]
    },
    {
      "metadata": {
        "id": "jgcMwB_t8IEJ",
        "colab_type": "code",
        "colab": {
          "base_uri": "https://localhost:8080/",
          "height": 54
        },
        "outputId": "3e343495-0397-4294-db85-d5563830c615"
      },
      "cell_type": "code",
      "source": [
        "class RainbowDQN(nn.Module):\n",
        "    def __init__(self, num_inputs, num_actions, num_atoms, Vmin, Vmax):\n",
        "        super(RainbowDQN, self).__init__()\n",
        "        \n",
        "        self.num_inputs   = num_inputs\n",
        "        self.num_actions  = num_actions\n",
        "        self.num_atoms    = num_atoms\n",
        "        self.Vmin         = Vmin\n",
        "        self.Vmax         = Vmax\n",
        "        \n",
        "        self.linear1 = nn.Linear(num_inputs, 64)\n",
        "        self.linear2 = nn.Linear(64, 128)\n",
        "        \n",
        "        self.noisy_value1 = NoisyLinear(128, 128, use_cuda=USE_CUDA)\n",
        "        self.noisy_value2 = NoisyLinear(128, self.num_atoms, use_cuda=USE_CUDA)\n",
        "        \n",
        "        self.noisy_advantage1 = NoisyLinear(128, 128, use_cuda=USE_CUDA)\n",
        "        self.noisy_advantage2 = NoisyLinear(128, self.num_atoms * self.num_actions, use_cuda=USE_CUDA)\n",
        "        \n",
        "    def forward(self, x):\n",
        "        batch_size = x.size(0)\n",
        "        \n",
        "        x = F.relu(self.linear1(x))\n",
        "        x = F.relu(self.linear2(x))\n",
        "        \n",
        "        value = F.relu(self.noisy_value1(x))\n",
        "        value = self.noisy_value2(value)\n",
        "        \n",
        "        advantage = F.relu(self.noisy_advantage1(x))\n",
        "        advantage = self.noisy_advantage2(advantage)\n",
        "        \n",
        "        value     = value.view(batch_size, 1, self.num_atoms)\n",
        "        advantage = advantage.view(batch_size, self.num_actions, self.num_atoms)\n",
        "        \n",
        "        x = value + advantage - advantage.mean(1, keepdim=True)\n",
        "        x = F.softmax(x.view(-1, self.num_atoms)).view(-1, self.num_actions, self.num_atoms)\n",
        "        \n",
        "        return x\n",
        "        \n",
        "    def reset_noise(self):\n",
        "        self.noisy_value1.reset_noise()\n",
        "        self.noisy_value2.reset_noise()\n",
        "        self.noisy_advantage1.reset_noise()\n",
        "        self.noisy_advantage2.reset_noise()\n",
        "    \n",
        "    def act(self, state):\n",
        "        with torch.no_grad():\n",
        "          state = Variable(torch.FloatTensor(state).unsqueeze(0))\n",
        "        dist = self.forward(state).data.cpu()\n",
        "        dist = dist * torch.linspace(self.Vmin, self.Vmax, self.num_atoms)\n",
        "        action = dist.sum(2).max(1)[1].numpy()[0]\n",
        "        return action\n",
        "\n",
        "env = gym.make('Drop7-v1')\n",
        "\n",
        "num_atoms = 51\n",
        "Vmin = 7\n",
        "Vmax = -2\n",
        "num_input = prepare_input(env.get_state()).shape[1]\n",
        "current_model = RainbowDQN(num_input, env.action_space.n, num_atoms, Vmin, Vmax)\n",
        "target_model  = RainbowDQN(num_input, env.action_space.n, num_atoms, Vmin, Vmax)\n",
        "\n",
        "if USE_CUDA:\n",
        "    current_model = current_model.cuda()\n",
        "    target_model  = target_model.cuda()\n",
        "    \n",
        "optimizer = optim.Adam(current_model.parameters(), 0.01)\n",
        "\n",
        "replay_buffer = ReplayBuffer(100000)"
      ],
      "execution_count": 27,
      "outputs": [
        {
          "output_type": "stream",
          "text": [
            "/usr/local/lib/python3.6/dist-packages/gym/envs/registration.py:14: PkgResourcesDeprecationWarning: Parameters to load are deprecated.  Call .resolve and .require separately.\n",
            "  result = entry_point.load(False)\n"
          ],
          "name": "stderr"
        }
      ]
    },
    {
      "metadata": {
        "id": "wA2MZVfIew89",
        "colab_type": "code",
        "colab": {
          "base_uri": "https://localhost:8080/",
          "height": 335
        },
        "outputId": "d13f9802-d69a-4627-f279-a3c5223ab7ee"
      },
      "cell_type": "code",
      "source": [
        "num_frames = 120000\n",
        "batch_size = 100\n",
        "gamma      = 0.99\n",
        "\n",
        "losses = []\n",
        "all_rewards = []\n",
        "episode_reward = 0\n",
        "\n",
        "state = env.reset()\n",
        "state = prepare_input(state)\n",
        "for frame_idx in range(1, num_frames + 1):\n",
        "    action = current_model.act(state)\n",
        "    \n",
        "    next_state, reward, done, _ = env.step(action)\n",
        "    next_state = prepare_input(next_state)\n",
        "    \n",
        "    #trying to help the agent to learn to survive\n",
        "    \n",
        "    \n",
        "    \n",
        "    replay_buffer.push(state, action, reward, next_state, done)\n",
        "    \n",
        "    state = next_state\n",
        "    episode_reward += reward\n",
        "    \n",
        "    if done:\n",
        "        state = env.reset()\n",
        "        state = prepare_input(state)\n",
        "        all_rewards.append(episode_reward)\n",
        "        episode_reward = 0\n",
        "        \n",
        "    if len(replay_buffer) > batch_size:\n",
        "        loss = compute_td_loss(batch_size)\n",
        "        losses.append(loss.item())\n",
        "        \n",
        "    if frame_idx % 200 == 0:\n",
        "        plot(frame_idx, all_rewards, losses)\n",
        "        \n",
        "    if frame_idx % 200 == 0:\n",
        "        update_target(current_model, target_model)"
      ],
      "execution_count": 39,
      "outputs": [
        {
          "output_type": "display_data",
          "data": {
            "image/png": "[encoded data removed]",
            "text/plain": [
              "<matplotlib.figure.Figure at 0x7f47bd7bf278>"
            ]
          },
          "metadata": {
            "tags": []
          }
        }
      ]
    },
    {
      "metadata": {
        "id": "ro-Dj2K8mwwv",
        "colab_type": "text"
      },
      "cell_type": "markdown",
      "source": [
        "## Same bigger modell  \n",
        "But with smaller batch size"
      ]
    },
    {
      "metadata": {
        "id": "SbhsQyhqgQOa",
        "colab_type": "code",
        "colab": {
          "base_uri": "https://localhost:8080/",
          "height": 335
        },
        "outputId": "babcf26d-a95d-4dcd-a6b6-27a0f43cb939"
      },
      "cell_type": "code",
      "source": [
        "num_frames = 360000\n",
        "batch_size = 32\n",
        "gamma      = 0.99\n",
        "\n",
        "losses = []\n",
        "all_rewards = []\n",
        "episode_reward = 0\n",
        "\n",
        "state = env.reset()\n",
        "state = prepare_input(state)\n",
        "for frame_idx in range(1, num_frames + 1):\n",
        "    action = current_model.act(state)\n",
        "   \n",
        "    next_state, reward, done, _ = env.step(action)\n",
        "    next_state = prepare_input(next_state)\n",
        "    \n",
        "    #trying to help the agent to learn to survive\n",
        "    \n",
        "    \n",
        "    \n",
        "    replay_buffer.push(state, action, reward, next_state, done)\n",
        "    \n",
        "    state = next_state\n",
        "    episode_reward += reward\n",
        "    \n",
        "    if done:\n",
        "        state = env.reset()\n",
        "        state = prepare_input(state)\n",
        "        all_rewards.append(episode_reward)\n",
        "        episode_reward = 0\n",
        "        \n",
        "    if len(replay_buffer) > batch_size:\n",
        "        loss = compute_td_loss(batch_size)\n",
        "        losses.append(loss.item())\n",
        "        \n",
        "    if frame_idx % 200 == 0:\n",
        "        plot(frame_idx, all_rewards, losses)\n",
        "        \n",
        "    if frame_idx % 200 == 0:\n",
        "        update_target(current_model, target_model)"
      ],
      "execution_count": 30,
      "outputs": [
        {
          "output_type": "display_data",
          "data": {
            "image/png": "[encoded data removed]",
            "text/plain": [
              "<matplotlib.figure.Figure at 0x7ff006da9438>"
            ]
          },
          "metadata": {
            "tags": []
          }
        }
      ]
    },
    {
      "metadata": {
        "id": "zhCmf4oZm3hf",
        "colab_type": "text"
      },
      "cell_type": "markdown",
      "source": [
        "## Result\n",
        "The last run looks interesting since the loss converges as we hoped and the reward (at least) doesn't sit at the bottom as it did before.  \n",
        "However, even though the reward looks promising, the variance is still extremely large and its mean still sits around 40'000 which is what we experienced with our random benchmark."
      ]
    },
    {
      "metadata": {
        "id": "UvqzWg2Wg132",
        "colab_type": "code",
        "colab": {}
      },
      "cell_type": "code",
      "source": [
        ""
      ],
      "execution_count": 0,
      "outputs": []
    },
    {
      "metadata": {
        "id": "GG7H6DBhhB_-",
        "colab_type": "code",
        "colab": {}
      },
      "cell_type": "code",
      "source": [
        ""
      ],
      "execution_count": 0,
      "outputs": []
    }
  ]
}