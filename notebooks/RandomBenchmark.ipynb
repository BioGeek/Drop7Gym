{
 "cells": [
  {
   "cell_type": "markdown",
   "metadata": {},
   "source": [
    "# Purpose of Notebook\n",
    "This Notebook outlines our benchmark agent:  \n",
    "An agent, that takes a random action at every turn."
   ]
  },
  {
   "cell_type": "code",
   "execution_count": 16,
   "metadata": {},
   "outputs": [],
   "source": [
    "import sys \n",
    "sys.path.append('..') #hack to import module from parent folder\n",
    "import numpy as np\n",
    "from gym import logger, wrappers\n",
    "import gym\n",
    "import gym_drop7\n",
    "import cfg\n",
    "import matplotlib.pyplot as plt\n",
    "import argparse"
   ]
  },
  {
   "cell_type": "code",
   "execution_count": 17,
   "metadata": {},
   "outputs": [],
   "source": [
    "class RandomAgent(object):\n",
    "    def __init__(self, action_space):\n",
    "        self.action_space = action_space\n",
    "\n",
    "    def act(self, observation, reward, done):\n",
    "        return self.action_space.sample()"
   ]
  },
  {
   "cell_type": "code",
   "execution_count": 18,
   "metadata": {},
   "outputs": [],
   "source": [
    "logger.set_level(logger.INFO)"
   ]
  },
  {
   "cell_type": "code",
   "execution_count": 19,
   "metadata": {},
   "outputs": [
    {
     "name": "stdout",
     "output_type": "stream",
     "text": [
      "INFO: Making new env: Drop7-v1\n",
      "INFO: Finished writing results. You can upload them to the scoreboard via gym.upload('/Users/dave/Documents/Drop7Gym/notebooks/agent_logger_results/random')\n",
      "INFO: Clearing 2 monitor files from previous run (because force=True was provided)\n"
     ]
    }
   ],
   "source": [
    "env = gym.make('Drop7-v1')\n",
    "\n",
    "outdir = './agent_logger_results/random'\n",
    "env = wrappers.Monitor(env, directory=outdir, force=True)\n",
    "# env.seed(0)\n",
    "agent = RandomAgent(env.action_space)"
   ]
  },
  {
   "cell_type": "code",
   "execution_count": 20,
   "metadata": {},
   "outputs": [],
   "source": [
    "episode_count = 100\n",
    "reward = 0\n",
    "done = False"
   ]
  },
  {
   "cell_type": "code",
   "execution_count": 21,
   "metadata": {},
   "outputs": [
    {
     "name": "stdout",
     "output_type": "stream",
     "text": [
      "INFO: Disabling video recorder because <Drop7Env<Drop7-v1>> neither supports video mode \"rgb_array\" nor \"ansi\".\n",
      "INFO: Disabling video recorder because <Drop7Env<Drop7-v1>> neither supports video mode \"rgb_array\" nor \"ansi\".\n",
      "INFO: Disabling video recorder because <Drop7Env<Drop7-v1>> neither supports video mode \"rgb_array\" nor \"ansi\".\n",
      "INFO: Disabling video recorder because <Drop7Env<Drop7-v1>> neither supports video mode \"rgb_array\" nor \"ansi\".\n",
      "INFO: Disabling video recorder because <Drop7Env<Drop7-v1>> neither supports video mode \"rgb_array\" nor \"ansi\".\n",
      "INFO: Finished writing results. You can upload them to the scoreboard via gym.upload('/Users/dave/Documents/Drop7Gym/notebooks/agent_logger_results/random')\n"
     ]
    }
   ],
   "source": [
    "for i in range(episode_count):\n",
    "    ob = env.reset()\n",
    "    while True:\n",
    "        action = agent.act(ob, reward, done)\n",
    "        ob, reward, done, _ = env.step(action)\n",
    "        if done:\n",
    "            break\n",
    "# Close the env and write monitor result info to disk\n",
    "env.close()"
   ]
  },
  {
   "cell_type": "code",
   "execution_count": null,
   "metadata": {},
   "outputs": [],
   "source": []
  }
 ],
 "metadata": {
  "kernelspec": {
   "display_name": "Python 3",
   "language": "python",
   "name": "python3"
  },
  "language_info": {
   "codemirror_mode": {
    "name": "ipython",
    "version": 3
   },
   "file_extension": ".py",
   "mimetype": "text/x-python",
   "name": "python",
   "nbconvert_exporter": "python",
   "pygments_lexer": "ipython3",
   "version": "3.6.4"
  }
 },
 "nbformat": 4,
 "nbformat_minor": 2
}
