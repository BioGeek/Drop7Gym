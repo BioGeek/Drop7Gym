{
 "cells": [
  {
   "cell_type": "markdown",
   "metadata": {},
   "source": [
    "# Purpose of Notebook\n",
    "This Notebook shows the basic mechanics of the environment and how to use the game\n",
    "\n",
    "As mentioned before, the best way to get to know the game is just to download it and play through the introduction in-app. Otherwise, consider [Drop7's Wikipedia](https://en.wikipedia.org/wiki/Drop7)"
   ]
  },
  {
   "cell_type": "code",
   "execution_count": 1,
   "metadata": {},
   "outputs": [],
   "source": [
    "import sys \n",
    "sys.path.append('..') #hack to import module from parent folder\n",
    "import numpy as np\n",
    "import gym\n",
    "import gym_drop7\n",
    "import cfg\n",
    "import matplotlib.pyplot as plt"
   ]
  },
  {
   "cell_type": "code",
   "execution_count": 2,
   "metadata": {},
   "outputs": [],
   "source": [
    "# general command to setup the enviroment\n",
    "env = gym.make('Drop7-v0')"
   ]
  },
  {
   "cell_type": "markdown",
   "metadata": {},
   "source": [
    "## Environment\n",
    "As seen below an observation is a tuple of the following:\n",
    "- number to insert next. This is the value of the block to insert next. (in this example it would be a block of value 7 - changes if reevaluated).\n",
    "- Current grid in form of a numpy array"
   ]
  },
  {
   "cell_type": "code",
   "execution_count": 10,
   "metadata": {},
   "outputs": [
    {
     "name": "stdout",
     "output_type": "stream",
     "text": [
      "(7, array([[0, 0, 0, 0, 0, 0, 0],\n",
      "       [0, 0, 0, 0, 0, 0, 0],\n",
      "       [0, 3, 0, 0, 0, 0, 0],\n",
      "       [3, 3, 0, 0, 0, 0, 0],\n",
      "       [1, 3, 0, 0, 0, 0, 0],\n",
      "       [1, 2, 5, 0, 0, 1, 6],\n",
      "       [1, 1, 5, 6, 6, 6, 6]]))\n"
     ]
    }
   ],
   "source": [
    "# reset episode variables and receive first observation\n",
    "print(env.reset())"
   ]
  },
  {
   "cell_type": "code",
   "execution_count": 12,
   "metadata": {},
   "outputs": [
    {
     "name": "stdout",
     "output_type": "stream",
     "text": [
      "None\n"
     ]
    },
    {
     "data": {
      "image/png": "[encoded data removed]",
      "text/plain": [
       "<Figure size 432x288 with 1 Axes>"
      ]
     },
     "metadata": {},
     "output_type": "display_data"
    }
   ],
   "source": [
    "# print the environment nicely\n",
    "print(env.render())"
   ]
  },
  {
   "cell_type": "markdown",
   "metadata": {},
   "source": [
    "### Stepping through the game\n",
    "Stepping through the game is simple: We only need to specify in which column to insert the next block (similar to tetris, but without the rotation). This is done by calling env.step with the index of the column.\n",
    "The step function returns:\n",
    "- block to insert next\n",
    "- observation array\n",
    "- reward of last action\n",
    "- game_over (bool)\n",
    "- diagnosis dictionary"
   ]
  },
  {
   "cell_type": "code",
   "execution_count": 13,
   "metadata": {},
   "outputs": [
    {
     "data": {
      "text/plain": [
       "((4, array([[0, 0, 0, 0, 0, 0, 0],\n",
       "         [0, 0, 0, 0, 0, 0, 0],\n",
       "         [0, 3, 0, 0, 0, 0, 0],\n",
       "         [3, 3, 0, 0, 0, 0, 0],\n",
       "         [1, 3, 0, 0, 0, 7, 0],\n",
       "         [1, 2, 5, 0, 0, 1, 6],\n",
       "         [1, 1, 5, 6, 6, 6, 6]])), 0, False, {})"
      ]
     },
     "execution_count": 13,
     "metadata": {},
     "output_type": "execute_result"
    }
   ],
   "source": [
    "env.step(5)"
   ]
  },
  {
   "cell_type": "code",
   "execution_count": 14,
   "metadata": {},
   "outputs": [
    {
     "data": {
      "image/png": "[encoded data removed]",
      "text/plain": [
       "<Figure size 432x288 with 1 Axes>"
      ]
     },
     "metadata": {},
     "output_type": "display_data"
    }
   ],
   "source": [
    "env.render()"
   ]
  },
  {
   "cell_type": "markdown",
   "metadata": {},
   "source": [
    "## Small problem\n",
    "The initiation of the game is random - therefore we might gain an advantage by chance. This random initiation is the \"classic\" mode of the game. The game also includes a mode called \"sequence\", in which the game is always instantiated the same, namely with a row of -2 blocks at the bottom.\n",
    "\n",
    "For the \"sequence\" mode of the game we registered a version 1 of the environment, which can be used the following way:"
   ]
  },
  {
   "cell_type": "code",
   "execution_count": 3,
   "metadata": {},
   "outputs": [],
   "source": [
    "# general command to setup the enviroment\n",
    "env = gym.make('Drop7-v1')"
   ]
  },
  {
   "cell_type": "code",
   "execution_count": 4,
   "metadata": {},
   "outputs": [
    {
     "name": "stdout",
     "output_type": "stream",
     "text": [
      "(1, array([[ 0,  0,  0,  0,  0,  0,  0],\n",
      "       [ 0,  0,  0,  0,  0,  0,  0],\n",
      "       [ 0,  0,  0,  0,  0,  0,  0],\n",
      "       [ 0,  0,  0,  0,  0,  0,  0],\n",
      "       [ 0,  0,  0,  0,  0,  0,  0],\n",
      "       [ 0,  0,  0,  0,  0,  0,  0],\n",
      "       [-2, -2, -2, -2, -2, -2, -2]]))\n"
     ]
    },
    {
     "data": {
      "image/png": "[encoded data removed]",
      "text/plain": [
       "<Figure size 432x288 with 1 Axes>"
      ]
     },
     "metadata": {},
     "output_type": "display_data"
    }
   ],
   "source": [
    "print(env.reset())\n",
    "env.render()"
   ]
  },
  {
   "cell_type": "markdown",
   "metadata": {},
   "source": [
    "That's it - next we're feeding the observation into a RL model, which hopefully will perform better at the game than we do."
   ]
  }
 ],
 "metadata": {
  "kernelspec": {
   "display_name": "Python 3",
   "language": "python",
   "name": "python3"
  },
  "language_info": {
   "codemirror_mode": {
    "name": "ipython",
    "version": 3
   },
   "file_extension": ".py",
   "mimetype": "text/x-python",
   "name": "python",
   "nbconvert_exporter": "python",
   "pygments_lexer": "ipython3",
   "version": "3.6.4"
  }
 },
 "nbformat": 4,
 "nbformat_minor": 2
}
